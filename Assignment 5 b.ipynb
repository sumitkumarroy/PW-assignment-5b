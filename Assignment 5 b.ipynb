{
 "cells": [
  {
   "cell_type": "code",
   "execution_count": 1,
   "id": "df2d7276",
   "metadata": {},
   "outputs": [
    {
     "data": {
      "text/plain": [
       "'\\n1. explain why we need to use Exception class while creation a custom exception\\n\\nit is always a good habit to inherit from the built-in Exception class because this is because the Exception class is \\nthe base class for all exceptions in Python, providing a consistent and standardized way to handle errors.\\n'"
      ]
     },
     "execution_count": 1,
     "metadata": {},
     "output_type": "execute_result"
    }
   ],
   "source": [
    "#  1\n",
    "'''\n",
    "1. explain why we need to use Exception class while creation a custom exception\n",
    "\n",
    "it is always a good habit to inherit from the built-in Exception class because this is because the Exception class is \n",
    "the base class for all exceptions in Python, providing a consistent and standardized way to handle errors.\n",
    "'''"
   ]
  },
  {
   "cell_type": "code",
   "execution_count": 3,
   "id": "b92f49a9",
   "metadata": {},
   "outputs": [
    {
     "name": "stdout",
     "output_type": "stream",
     "text": [
      "<class 'Exception'>\n",
      "  <class 'BaseException'>\n",
      "    <class 'object'>\n"
     ]
    }
   ],
   "source": [
    "# 2\n",
    "def print_exception_hierarchy(exception_class, indent=0):\n",
    "    print('  ' * indent + str(exception_class))\n",
    "    for base_exception in exception_class.__bases__:\n",
    "        print_exception_hierarchy(base_exception, indent + 1)\n",
    "\n",
    "print_exception_hierarchy(Exception)\n"
   ]
  },
  {
   "cell_type": "code",
   "execution_count": 4,
   "id": "29359ba7",
   "metadata": {},
   "outputs": [
    {
     "name": "stdout",
     "output_type": "stream",
     "text": [
      "Error: division by zero\n"
     ]
    }
   ],
   "source": [
    "#  3\n",
    "'''\n",
    "the ArithmeticError is the base class for exceptions that occur during arithmetic operations. Two commonly encountered \n",
    "exceptions derived from ArithmeticError are ZeroDivisionError and OverflowError.\n",
    "'''\n",
    "try:\n",
    "    result = 10 / 0  # This will raise a ZeroDivisionError\n",
    "except ZeroDivisionError as e:\n",
    "    print(f\"Error: {e}\")\n",
    "    \n",
    "import sys\n",
    "\n",
    "try:\n",
    "    result = sys.maxsize + 1  # This may raise an OverflowError\n",
    "except OverflowError as e:\n",
    "    print(f\"Error: {e}\")\n",
    "   "
   ]
  },
  {
   "cell_type": "code",
   "execution_count": 6,
   "id": "3803293c",
   "metadata": {},
   "outputs": [
    {
     "name": "stdout",
     "output_type": "stream",
     "text": [
      "Error: 'd'\n",
      "Error: list index out of range\n"
     ]
    }
   ],
   "source": [
    "#  4\n",
    "my_dict = {'a': 1, 'b': 2, 'c': 3}\n",
    "try:\n",
    "    value = my_dict['d']  # This will raise a KeyError\n",
    "except KeyError as e:\n",
    "    print(f\"Error: {e}\")\n",
    "\n",
    "    \n",
    "my_list = [1, 2, 3, 4, 5]\n",
    "try:\n",
    "    value = my_list[10]  # This will raise an IndexError\n",
    "except IndexError as e:\n",
    "    print(f\"Error: {e}\")\n"
   ]
  },
  {
   "cell_type": "code",
   "execution_count": 11,
   "id": "84e6935c",
   "metadata": {},
   "outputs": [
    {
     "name": "stdout",
     "output_type": "stream",
     "text": [
      "No module named 'nandu'\n",
      "No module named 'sumitkumarroy_module'\n"
     ]
    }
   ],
   "source": [
    "#  5\n",
    "'''\n",
    "An ImportError in Python occurs when the interpreter is unable to locate and import a module or a name referenced in an\n",
    "import statement.\n",
    "\n",
    "One specific subtype of ImportError is the ModuleNotFoundError, which specifically indicates that the requested module could \n",
    "not be found.\n",
    "'''\n",
    "\n",
    "#Example\n",
    "\n",
    "try:\n",
    "    import nandu\n",
    "    \n",
    "except ImportError as e:\n",
    "    print(e)\n",
    "    \n",
    "try:\n",
    "    import sumitkumarroy_module\n",
    "    \n",
    "except ModuleNotFoundError as e:\n",
    "    print(e)"
   ]
  },
  {
   "cell_type": "code",
   "execution_count": 21,
   "id": "575711b0",
   "metadata": {},
   "outputs": [
    {
     "ename": "IndentationError",
     "evalue": "expected an indented block after 'try' statement on line 2 (2355311377.py, line 4)",
     "output_type": "error",
     "traceback": [
      "\u001b[1;36m  Cell \u001b[1;32mIn[21], line 4\u001b[1;36m\u001b[0m\n\u001b[1;33m    except ValueError as ve:\u001b[0m\n\u001b[1;37m    ^\u001b[0m\n\u001b[1;31mIndentationError\u001b[0m\u001b[1;31m:\u001b[0m expected an indented block after 'try' statement on line 2\n"
     ]
    }
   ],
   "source": [
    "# 6\n",
    "try:\n",
    "    # Code that may raise an exception\n",
    "except ValueError as ve:\n",
    "    # Handle ValueError\n",
    "except FileNotFoundError as fnfe:\n",
    "    # Handle FileNotFoundError\n",
    "\n",
    "    \n",
    "try:\n",
    "    # Code that may raise an exception\n",
    "except ValueError as ve:\n",
    "    print(f\"Error: Invalid value - {ve}\")\n",
    "\n",
    "\n",
    "    \n",
    "try:\n",
    "    # Code that may raise an exception\n",
    "finally:\n",
    "    # Cleanup code that always runs\n"
   ]
  },
  {
   "cell_type": "code",
   "execution_count": null,
   "id": "078b7051",
   "metadata": {},
   "outputs": [],
   "source": []
  },
  {
   "cell_type": "code",
   "execution_count": null,
   "id": "e1bd43f3",
   "metadata": {},
   "outputs": [],
   "source": []
  }
 ],
 "metadata": {
  "kernelspec": {
   "display_name": "Python 3 (ipykernel)",
   "language": "python",
   "name": "python3"
  },
  "language_info": {
   "codemirror_mode": {
    "name": "ipython",
    "version": 3
   },
   "file_extension": ".py",
   "mimetype": "text/x-python",
   "name": "python",
   "nbconvert_exporter": "python",
   "pygments_lexer": "ipython3",
   "version": "3.11.4"
  }
 },
 "nbformat": 4,
 "nbformat_minor": 5
}
